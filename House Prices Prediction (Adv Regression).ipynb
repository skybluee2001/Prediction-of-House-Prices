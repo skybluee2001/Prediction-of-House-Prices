{
 "cells": [
  {
   "cell_type": "code",
   "execution_count": 1,
   "metadata": {
    "_cell_guid": "b1076dfc-b9ad-4769-8c92-a6c4dae69d19",
    "_uuid": "8f2839f25d086af736a60e9eeb907d3b93b6e0e5",
    "execution": {
     "iopub.execute_input": "2020-12-26T07:58:31.131837Z",
     "iopub.status.busy": "2020-12-26T07:58:31.130842Z",
     "iopub.status.idle": "2020-12-26T07:58:31.137767Z",
     "shell.execute_reply": "2020-12-26T07:58:31.138305Z"
    },
    "papermill": {
     "duration": 0.03112,
     "end_time": "2020-12-26T07:58:31.138526",
     "exception": false,
     "start_time": "2020-12-26T07:58:31.107406",
     "status": "completed"
    },
    "tags": []
   },
   "outputs": [
    {
     "name": "stdout",
     "output_type": "stream",
     "text": [
      "/kaggle/input/house-prices-advanced-regression-techniques/sample_submission.csv\n",
      "/kaggle/input/house-prices-advanced-regression-techniques/data_description.txt\n",
      "/kaggle/input/house-prices-advanced-regression-techniques/train.csv\n",
      "/kaggle/input/house-prices-advanced-regression-techniques/test.csv\n"
     ]
    }
   ],
   "source": [
   
    "\n",
    "import numpy as np # linear algebra\n",
    "import pandas as pd # data processing, CSV file I/O (e.g. pd.read_csv)\n",
    "import warnings\n",
    "warnings.filterwarnings('ignore')\n",
    "\n",
    "# Input data files are available in the read\n",
    "#-only \"../input/\" directory\n",
    "# For example, running this (by clicking run or pressing Shift+Enter) will list all files under the input directory\n",
    "\n",
    "import os\n",
    "for dirname, _, filenames in os.walk('/kaggle/input'):\n",
    "    for filename in filenames:\n",
    "        print(os.path.join(dirname, filename))\n",
    "\n",
   
   ]
  },
  {
   "cell_type": "code",
   "execution_count": 2,
   "metadata": {
    "_cell_guid": "79c7e3d0-c299-4dcb-8224-4455121ee9b0",
    "_uuid": "d629ff2d2480ee46fbb7e2d37f6b5fab8052498a",
    "execution": {
     "iopub.execute_input": "2020-12-26T07:58:31.169740Z",
     "iopub.status.busy": "2020-12-26T07:58:31.168968Z",
     "iopub.status.idle": "2020-12-26T07:58:31.273995Z",
     "shell.execute_reply": "2020-12-26T07:58:31.273376Z"
    },
    "papermill": {
     "duration": 0.123762,
     "end_time": "2020-12-26T07:58:31.274159",
     "exception": false,
     "start_time": "2020-12-26T07:58:31.150397",
     "status": "completed"
    },
    "tags": []
   },
   "outputs": [],
   "source": [
    "train             = pd.read_csv('../input/house-prices-advanced-regression-techniques/train.csv')\n",
    "test              = pd.read_csv('../input/house-prices-advanced-regression-techniques/test.csv')\n",
    "sample_submission = pd.read_csv('../input/house-prices-advanced-regression-techniques/sample_submission.csv')\n",
    "#test=np.exp(test)\n",
    "y   = train['SalePrice']"
   ]
  },
  {
   "cell_type": "code",
   "execution_count": 3,
   "metadata": {
    "execution": {
     "iopub.execute_input": "2020-12-26T07:58:31.306741Z",
     "iopub.status.busy": "2020-12-26T07:58:31.306042Z",
     "iopub.status.idle": "2020-12-26T07:58:31.428996Z",
     "shell.execute_reply": "2020-12-26T07:58:31.428032Z"
    },
    "papermill": {
     "duration": 0.143772,
     "end_time": "2020-12-26T07:58:31.429162",
     "exception": false,
     "start_time": "2020-12-26T07:58:31.285390",
     "status": "completed"
    },
    "tags": []
   },
   "outputs": [],
   "source": [
    "train=train.drop('SalePrice',axis=1)\n",
    "#categorical        = train.dtypes[ train.dtypes == 'object' ].index.tolist() # Identify columns with 'object' type\n",
    "cat_col  =[i for i in train.columns \n",
    "           if train[i].dtypes=='object']\n",
    "\n",
    "train[cat_col] = train[cat_col].astype('category') \n",
    "#cat_col.remove('SalePrice')\n",
    "test[cat_col ] = test[cat_col].astype('category')\n",
    "#cat_col.remove('Id')\n",
    "# Change 'object' type columns to 'category'"
   ]
  },
  {
   "cell_type": "code",
   "execution_count": 4,
   "metadata": {
    "execution": {
     "iopub.execute_input": "2020-12-26T07:58:31.462859Z",
     "iopub.status.busy": "2020-12-26T07:58:31.462133Z",
     "iopub.status.idle": "2020-12-26T07:58:31.465518Z",
     "shell.execute_reply": "2020-12-26T07:58:31.464844Z"
    },
    "papermill": {
     "duration": 0.025025,
     "end_time": "2020-12-26T07:58:31.465653",
     "exception": false,
     "start_time": "2020-12-26T07:58:31.440628",
     "status": "completed"
    },
    "tags": []
   },
   "outputs": [],
   "source": [
    "num_col = train.dtypes[ train.dtypes != 'category' ].index.tolist()\n",
    "#quantitative=[i for i in train.columns \n",
    "      #  if train[i].dtype != 'category']# Identify non categorical columns \n",
    "num_col.remove('Id')"
   ]
  },
  {
   "cell_type": "code",
   "execution_count": 5,
   "metadata": {
    "execution": {
     "iopub.execute_input": "2020-12-26T07:58:31.492555Z",
     "iopub.status.busy": "2020-12-26T07:58:31.491719Z",
     "iopub.status.idle": "2020-12-26T07:58:31.500987Z",
     "shell.execute_reply": "2020-12-26T07:58:31.501605Z"
    },
    "papermill": {
     "duration": 0.024511,
     "end_time": "2020-12-26T07:58:31.501783",
     "exception": false,
     "start_time": "2020-12-26T07:58:31.477272",
     "status": "completed"
    },
    "tags": []
   },
   "outputs": [],
   "source": [
    "to_drop=['Alley','PoolQC','Fence','MiscFeature']\n",
    "#to_drop=['MiscFeature', 'Fence', 'PoolQC', 'Alley']\n",
    "train=train.drop(columns=to_drop)\n",
    "test.drop(columns=to_drop,inplace=True)\n",
    "\n",
    "#train.drop(to_drop,axis=1)"
   ]
  },
  {
   "cell_type": "code",
   "execution_count": 6,
   "metadata": {
    "execution": {
     "iopub.execute_input": "2020-12-26T07:58:31.528776Z",
     "iopub.status.busy": "2020-12-26T07:58:31.528056Z",
     "iopub.status.idle": "2020-12-26T07:58:31.532866Z",
     "shell.execute_reply": "2020-12-26T07:58:31.533655Z"
    },
    "papermill": {
     "duration": 0.020431,
     "end_time": "2020-12-26T07:58:31.533968",
     "exception": false,
     "start_time": "2020-12-26T07:58:31.513537",
     "status": "completed"
    },
    "tags": []
   },
   "outputs": [],
   "source": [
    "for i in to_drop:\n",
    "    if i in cat_col:\n",
    "        cat_col.remove(i)\n",
    "    else:\n",
    "        num_col.remove(i)\n",
    "        "
   ]
  },
  {
   "cell_type": "code",
   "execution_count": 7,
   "metadata": {
    "execution": {
     "iopub.execute_input": "2020-12-26T07:58:31.561870Z",
     "iopub.status.busy": "2020-12-26T07:58:31.561108Z",
     "iopub.status.idle": "2020-12-26T07:58:33.105778Z",
     "shell.execute_reply": "2020-12-26T07:58:33.105186Z"
    },
    "papermill": {
     "duration": 1.55974,
     "end_time": "2020-12-26T07:58:33.105936",
     "exception": false,
     "start_time": "2020-12-26T07:58:31.546196",
     "status": "completed"
    },
    "tags": []
   },
   "outputs": [],
   "source": [
    "from sklearn.impute import SimpleImputer  # The imputer\n",
    "\n",
    "def impute_quantitative(df, columns):\n",
    "    \n",
    "    imputer = SimpleImputer(strategy='median')  # Initialize the imputer\n",
    "    \n",
    "    df[columns] = imputer.fit_transform(df[columns])\n",
    "    \n",
    "    return df\n",
    "\n",
    "train = impute_quantitative(train, num_col)\n",
    "#num=num_col.remove('SalePrice')\n",
    "test=impute_quantitative(test, num_col)"
   ]
  },
  {
   "cell_type": "code",
   "execution_count": 8,
   "metadata": {
    "execution": {
     "iopub.execute_input": "2020-12-26T07:58:33.139914Z",
     "iopub.status.busy": "2020-12-26T07:58:33.139184Z",
     "iopub.status.idle": "2020-12-26T07:58:33.264829Z",
     "shell.execute_reply": "2020-12-26T07:58:33.264239Z"
    },
    "papermill": {
     "duration": 0.147153,
     "end_time": "2020-12-26T07:58:33.264948",
     "exception": false,
     "start_time": "2020-12-26T07:58:33.117795",
     "status": "completed"
    },
    "tags": []
   },
   "outputs": [],
   "source": [
    "def impute_categorical(df, columns):\n",
    "    \n",
    "    df_oh_cat = pd.get_dummies(\n",
    "        df[columns],  # Data to one-hot encode\n",
    "        drop_first = True,  # Reduce by one column/variables :)\n",
    "    )\n",
    "    \n",
    "    df = df.drop(columns = columns)  # Drop the former columns\n",
    "    \n",
    "    df = pd.concat([df, df_oh_cat], axis=1)  # Concatenate both DataFrame\n",
    "    \n",
    "    return df\n",
    "\n",
    "train = impute_categorical(train, cat_col)\n",
    "test = impute_categorical(test, cat_col)"
   ]
  },
  {
   "cell_type": "code",
   "execution_count": 9,
   "metadata": {
    "execution": {
     "iopub.execute_input": "2020-12-26T07:58:33.298755Z",
     "iopub.status.busy": "2020-12-26T07:58:33.298061Z",
     "iopub.status.idle": "2020-12-26T07:58:33.468703Z",
     "shell.execute_reply": "2020-12-26T07:58:33.468054Z"
    },
    "papermill": {
     "duration": 0.192018,
     "end_time": "2020-12-26T07:58:33.468835",
     "exception": false,
     "start_time": "2020-12-26T07:58:33.276817",
     "status": "completed"
    },
    "tags": []
   },
   "outputs": [],
   "source": [
    "from sklearn.preprocessing import StandardScaler\n",
    "\n",
    "def normalize(df, exclude='Id'):\n",
    "    scaler = StandardScaler()  # Initiate the scaler\n",
    "    columns = df.columns.tolist()\n",
    "    columns.remove(exclude)\n",
    "    df[columns] = pd.DataFrame(data=scaler.fit_transform(df[columns]), columns=columns)\n",
    "    return df\n",
    "\n",
    "\n",
    "train = normalize(train)  #\n",
    "test = normalize(test)\n"
   ]
  },
  {
   "cell_type": "code",
   "execution_count": 10,
   "metadata": {
    "execution": {
     "iopub.execute_input": "2020-12-26T07:58:33.497199Z",
     "iopub.status.busy": "2020-12-26T07:58:33.496148Z",
     "iopub.status.idle": "2020-12-26T07:58:33.517628Z",
     "shell.execute_reply": "2020-12-26T07:58:33.518148Z"
    },
    "papermill": {
     "duration": 0.037569,
     "end_time": "2020-12-26T07:58:33.518328",
     "exception": false,
     "start_time": "2020-12-26T07:58:33.480759",
     "status": "completed"
    },
    "tags": []
   },
   "outputs": [],
   "source": [
    "every_columns = list(set(test.columns) ^ set(train))  # Get the columns\n",
    "#every_columns.remove('SalePrice')  # Remove the target\n",
    "   \n",
    "for column in every_columns:\n",
    "    test[column] = 0\n",
    "      "
   ]
  },
  {
   "cell_type": "code",
   "execution_count": 11,
   "metadata": {
    "execution": {
     "iopub.execute_input": "2020-12-26T07:58:33.547410Z",
     "iopub.status.busy": "2020-12-26T07:58:33.546303Z",
     "iopub.status.idle": "2020-12-26T07:58:33.584380Z",
     "shell.execute_reply": "2020-12-26T07:58:33.583556Z"
    },
    "papermill": {
     "duration": 0.053924,
     "end_time": "2020-12-26T07:58:33.584550",
     "exception": false,
     "start_time": "2020-12-26T07:58:33.530626",
     "status": "completed"
    },
    "tags": []
   },
   "outputs": [
    {
     "name": "stdout",
     "output_type": "stream",
     "text": [
      "None\n"
     ]
    }
   ],
   "source": [
    "def missing_value_percent(df):\n",
    "    ncol = df.shape[0]  # Number of rows\n",
    "    \n",
    "    tmp = df.isna().sum()  # Get a Pandas Series with the variable name and quantity of missing values\n",
    "    \n",
    "    mv = tmp[ tmp > 0 ]  # Get a Pandas Series only with variables with at least one missing value\n",
    "    \n",
    "    for index, value in mv.iteritems():  # Loop over the Pandas Series\n",
    "        \n",
    "        percentage = (value/ncol) * 100\n",
    "        \n",
    "        print(f\"{index.rjust(14)} : {round(percentage, 4):6}%\")\n",
    "\n",
    "print(missing_value_percent(test))"
   ]
  },
  {
   "cell_type": "code",
   "execution_count": 12,
   "metadata": {
    "execution": {
     "iopub.execute_input": "2020-12-26T07:58:33.617284Z",
     "iopub.status.busy": "2020-12-26T07:58:33.616463Z",
     "iopub.status.idle": "2020-12-26T07:58:33.636396Z",
     "shell.execute_reply": "2020-12-26T07:58:33.635656Z"
    },
    "papermill": {
     "duration": 0.038923,
     "end_time": "2020-12-26T07:58:33.636515",
     "exception": false,
     "start_time": "2020-12-26T07:58:33.597592",
     "status": "completed"
    },
    "tags": []
   },
   "outputs": [],
   "source": [
    "from sklearn.model_selection import train_test_split\n",
    "\n",
    "X_train, X_valid, y_train, y_valid = train_test_split(train, y, random_state=0, test_size=0.3)\n"
   ]
  },
  {
   "cell_type": "code",
   "execution_count": 13,
   "metadata": {
    "execution": {
     "iopub.execute_input": "2020-12-26T07:58:33.665845Z",
     "iopub.status.busy": "2020-12-26T07:58:33.665149Z",
     "iopub.status.idle": "2020-12-26T07:58:43.528329Z",
     "shell.execute_reply": "2020-12-26T07:58:43.527575Z"
    },
    "papermill": {
     "duration": 9.879155,
     "end_time": "2020-12-26T07:58:43.528465",
     "exception": false,
     "start_time": "2020-12-26T07:58:33.649310",
     "status": "completed"
    },
    "tags": []
   },
   "outputs": [
    {
     "name": "stdout",
     "output_type": "stream",
     "text": [
      "15825.949198954897\n"
     ]
    }
   ],
   "source": [
    "from sklearn import ensemble\n",
    "from sklearn.metrics import mean_absolute_error\n",
    "model = ensemble.GradientBoostingRegressor(\n",
    "    n_estimators=1000,\n",
    "    learning_rate=0.05,\n",
    "    max_depth=7,\n",
    "    min_samples_leaf=12,\n",
    "    max_features=0.3,\n",
    "    loss='huber',\n",
    "    random_state=0\n",
    ")\n",
    "model.fit(X_train, y_train)\n",
    "predictions = model.predict(X_valid)\n",
    "x=mean_absolute_error(predictions, y_valid)\n",
    "print(x)\n",
    "pred = model.predict(test)"
   ]
  },
  {
   "cell_type": "code",
   "execution_count": 14,
   "metadata": {
    "execution": {
     "iopub.execute_input": "2020-12-26T07:58:43.562902Z",
     "iopub.status.busy": "2020-12-26T07:58:43.562222Z",
     "iopub.status.idle": "2020-12-26T07:58:44.008599Z",
     "shell.execute_reply": "2020-12-26T07:58:44.009169Z"
    },
    "papermill": {
     "duration": 0.467587,
     "end_time": "2020-12-26T07:58:44.009396",
     "exception": false,
     "start_time": "2020-12-26T07:58:43.541809",
     "status": "completed"
    },
    "tags": []
   },
   "outputs": [],
   "source": [
    "sub = pd.DataFrame({'Id':test.Id, 'SalePrice':pred})\n",
    "#print(sub.head())\n",
    "\n",
    "sub.to_csv('./submission.csv', index = False)\n"
   ]
  }
 ],
 "metadata": {
  "kernelspec": {
   "display_name": "Python 3",
   "language": "python",
   "name": "python3"
  },
  "language_info": {
   "codemirror_mode": {
    "name": "ipython",
    "version": 3
   },
   "file_extension": ".py",
   "mimetype": "text/x-python",
   "name": "python",
   "nbconvert_exporter": "python",
   "pygments_lexer": "ipython3",
   "version": "3.7.6"
  },
  "papermill": {
   "duration": 18.461776,
   "end_time": "2020-12-26T07:58:44.132749",
   "environment_variables": {},
   "exception": null,
   "input_path": "__notebook__.ipynb",
   "output_path": "__notebook__.ipynb",
   "parameters": {},
   "start_time": "2020-12-26T07:58:25.670973",
   "version": "2.1.0"
  }
 },
 "nbformat": 4,
 "nbformat_minor": 4
}
